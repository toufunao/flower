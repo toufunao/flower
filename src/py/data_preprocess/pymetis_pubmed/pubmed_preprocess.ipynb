{
 "cells": [
  {
   "cell_type": "code",
   "execution_count": 21,
   "id": "48bc9448",
   "metadata": {},
   "outputs": [],
   "source": [
    "edgeFile = \"./Pubmed-Diabetes/data/Pubmed-Diabetes.DIRECTED.cites.tab\"\n",
    "outputFile = \"./Pubmed-Diabetes/data/edge.txt\"\n",
    "with open(outputFile,'w+') as f_output:\n",
    "    with open(edgeFile,mode=\"r\") as f:\n",
    "        count = 0\n",
    "        for line in f.readlines():\n",
    "            count += 1\n",
    "            if count < 3:\n",
    "                continue\n",
    "            arr = line.strip().split(\":\")\n",
    "            rsp = [arr[1].split(\"\\t\")[0],arr[2].split(\"\\t\")[0]]\n",
    "            strArr = \" \".join(rsp)+\"\\n\"\n",
    "            f_output.write(strArr)"
   ]
  },
  {
   "cell_type": "code",
   "execution_count": 51,
   "id": "2362e31c",
   "metadata": {},
   "outputs": [
    {
     "name": "stdout",
     "output_type": "stream",
     "text": [
      "19719\n"
     ]
    }
   ],
   "source": [
    "nodeFile = \"./Pubmed-Diabetes/data/Pubmed-Diabetes.NODE.paper.tab\"\n",
    "outputFile = \"./Pubmed-Diabetes/data/node.txt\"\n",
    "with open(outputFile,'w+') as f_output:\n",
    "    with open(nodeFile,mode=\"r\") as f:\n",
    "        count = 0\n",
    "        mapList = []\n",
    "        for line in f.readlines():\n",
    "            count += 1\n",
    "            \n",
    "            if count <= 1:\n",
    "                continue\n",
    "            if count ==2:\n",
    "                arr = line.split(\"\\t\")\n",
    "                for i in range(1,len(arr)-1):\n",
    "                    item = arr[i]\n",
    "                    mapList.append(item.split(\":\")[1])\n",
    "                    \n",
    "            if count >= 3:\n",
    "                rspList = [\"0\" for i in range(len(mapList))]\n",
    "                arr = line.split(\"\\t\")\n",
    "                id_node = arr[0]\n",
    "                label = arr[1].split(\"=\")[1]\n",
    "                for i in range(2,len(arr)-1):\n",
    "                    item = arr[i]\n",
    "                    mapping = item.split(\"=\")\n",
    "                    index = mapList.index(mapping[0])\n",
    "                    rspList[index] = mapping[1]\n",
    "                strArr = \" \".join(rspList)\n",
    "                strArr = id_node +  \" \" + strArr +\" \" + label + \"\\n\"\n",
    "                f_output.write(strArr)\n",
    "        print(count)"
   ]
  },
  {
   "cell_type": "code",
   "execution_count": null,
   "id": "1ddf1156",
   "metadata": {},
   "outputs": [],
   "source": []
  }
 ],
 "metadata": {
  "kernelspec": {
   "display_name": "Python 3 (ipykernel)",
   "language": "python",
   "name": "python3"
  },
  "language_info": {
   "codemirror_mode": {
    "name": "ipython",
    "version": 3
   },
   "file_extension": ".py",
   "mimetype": "text/x-python",
   "name": "python",
   "nbconvert_exporter": "python",
   "pygments_lexer": "ipython3",
   "version": "3.9.7"
  }
 },
 "nbformat": 4,
 "nbformat_minor": 5
}
