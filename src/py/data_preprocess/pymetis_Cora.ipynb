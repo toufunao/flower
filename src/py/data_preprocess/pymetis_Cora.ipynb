{
 "nbformat": 4,
 "nbformat_minor": 0,
 "metadata": {
  "colab": {
   "name": "pymetis分割.ipynb",
   "provenance": [],
   "collapsed_sections": []
  },
  "kernelspec": {
   "name": "python3",
   "display_name": "Python 3"
  },
  "language_info": {
   "name": "python"
  }
 },
 "cells": [
  {
   "cell_type": "code",
   "execution_count": null,
   "metadata": {
    "colab": {
     "base_uri": "https://localhost:8080/"
    },
    "id": "NbpTXkYcKDks",
    "outputId": "11c7cdea-1cc7-4242-aa1d-a01939b352c9",
    "pycharm": {
     "name": "#%%\n"
    }
   },
   "outputs": [
    {
     "output_type": "stream",
     "name": "stdout",
     "text": [
      "Mounted at /content/drive\n"
     ]
    }
   ],
   "source": [
    "from google.colab import drive\n",
    "drive.mount('/content/drive')"
   ]
  },
  {
   "cell_type": "code",
   "source": [
    "import numpy as np\n",
    "import pymetis\n",
    "from sklearn.preprocessing import LabelBinarizer\n",
    "import scipy.sparse as sp"
   ],
   "metadata": {
    "id": "2i64a_5-KHMf",
    "pycharm": {
     "name": "#%%\n"
    }
   },
   "execution_count": null,
   "outputs": []
  },
  {
   "cell_type": "code",
   "source": [
    "path=\"/content/drive/My Drive/Colab Notebooks/cora/\"\n",
    "dataset=\"cora\"\n",
    "\n",
    "edges_unordered = np.genfromtxt(\"{}{}.cites\".format(path, dataset), dtype=np.int32)\n",
    "\n",
    "idx_features_labels = np.genfromtxt(\"{}{}.content\".format(path,dataset), dtype=np.dtype(str))\n",
    "idx = np.array(idx_features_labels[:, 0], dtype=np.int32)\n",
    "idx_map = {j: i for i, j in enumerate(idx)}\n",
    "features = sp.csr_matrix(idx_features_labels[:, 1:-1], dtype=np.float32)\n",
    "encode_onehot = LabelBinarizer()\n",
    "labels = encode_onehot.fit_transform(idx_features_labels[:, -1])\n",
    "\n",
    "edges = np.array(list(map(idx_map.get, edges_unordered.flatten())), dtype=np.int32).reshape(edges_unordered.shape)"
   ],
   "metadata": {
    "id": "4iIU-lm4Kcu8",
    "pycharm": {
     "name": "#%%\n"
    }
   },
   "execution_count": null,
   "outputs": []
  },
  {
   "cell_type": "code",
   "source": [
    "node_list = []\n",
    "for item in idx_features_labels:\n",
    "    node_list.append(item[0])"
   ],
   "metadata": {
    "id": "5hX8A1WMKcxr",
    "pycharm": {
     "name": "#%%\n"
    }
   },
   "execution_count": null,
   "outputs": []
  },
  {
   "cell_type": "code",
   "source": [
    "adj_list = []\n",
    "for i in range(2708):\n",
    "    list_adj = []\n",
    "    for x in edges:\n",
    "        if x[0] == i:\n",
    "            list_adj.append(x[1])\n",
    "    adj_list.append(np.array(list_adj))"
   ],
   "metadata": {
    "id": "UNAFLW3pKc1h",
    "pycharm": {
     "name": "#%%\n"
    }
   },
   "execution_count": null,
   "outputs": []
  },
  {
   "cell_type": "code",
   "source": [
    "n_cuts, membership = pymetis.part_graph(13, adjacency=adj_list)"
   ],
   "metadata": {
    "id": "Sx6XWKYXKc4M",
    "pycharm": {
     "name": "#%%\n"
    }
   },
   "execution_count": null,
   "outputs": []
  },
  {
   "cell_type": "code",
   "source": [
    "n_cuts"
   ],
   "metadata": {
    "id": "gvV7QZxLU1ex",
    "outputId": "f6ed98bf-9b29-4d8c-94d2-42475cbc668f",
    "colab": {
     "base_uri": "https://localhost:8080/"
    },
    "pycharm": {
     "name": "#%%\n"
    }
   },
   "execution_count": null,
   "outputs": [
    {
     "output_type": "execute_result",
     "data": {
      "text/plain": [
       "-5460"
      ]
     },
     "metadata": {},
     "execution_count": 10
    }
   ]
  },
  {
   "cell_type": "markdown",
   "source": [
    "## 点分割"
   ],
   "metadata": {
    "id": "T-CJa5RTNEE0",
    "pycharm": {
     "name": "#%% md\n"
    }
   }
  },
  {
   "cell_type": "code",
   "source": [
    "nodes_part_0 = np.argwhere(np.array(membership) == 0).ravel()  #按顺序打标签后的node\n",
    "nodes_part_1 = np.argwhere(np.array(membership) == 1).ravel()  #按顺序打标签后的node\n",
    "nodes_part_2 = np.argwhere(np.array(membership) == 2).ravel() \n",
    "nodes_part_3 = np.argwhere(np.array(membership) == 3).ravel() \n",
    "nodes_part_4 = np.argwhere(np.array(membership) == 4).ravel() \n",
    "nodes_part_5 = np.argwhere(np.array(membership) == 5).ravel() \n",
    "nodes_part_6 = np.argwhere(np.array(membership) == 6).ravel() \n",
    "nodes_part_7 = np.argwhere(np.array(membership) == 7).ravel() \n",
    "nodes_part_8 = np.argwhere(np.array(membership) == 8).ravel() \n",
    "nodes_part_9 = np.argwhere(np.array(membership) == 9).ravel() \n",
    "nodes_part_10 = np.argwhere(np.array(membership) == 10).ravel() \n",
    "nodes_part_11 = np.argwhere(np.array(membership) == 11).ravel() \n",
    "nodes_part_12 = np.argwhere(np.array(membership) == 12).ravel() "
   ],
   "metadata": {
    "id": "oWZRXYbJKc67",
    "pycharm": {
     "name": "#%%\n"
    }
   },
   "execution_count": null,
   "outputs": []
  },
  {
   "cell_type": "code",
   "source": [
    "def get_key (dict, value):\n",
    "    return [k for k, v in dict.items() if v == value][0]"
   ],
   "metadata": {
    "id": "rPxFIRd3Kc9M",
    "pycharm": {
     "name": "#%%\n"
    }
   },
   "execution_count": null,
   "outputs": []
  },
  {
   "cell_type": "code",
   "source": [
    "real_nodes_0 = [get_key(idx_map,node) for node in nodes_part_0]\n",
    "real_nodes_1 = [get_key(idx_map,node) for node in nodes_part_1]\n",
    "real_nodes_2 = [get_key(idx_map,node) for node in nodes_part_2]\n",
    "real_nodes_3 = [get_key(idx_map,node) for node in nodes_part_3]\n",
    "real_nodes_4 = [get_key(idx_map,node) for node in nodes_part_4]\n",
    "real_nodes_5 = [get_key(idx_map,node) for node in nodes_part_5]\n",
    "real_nodes_6 = [get_key(idx_map,node) for node in nodes_part_6]\n",
    "real_nodes_7 = [get_key(idx_map,node) for node in nodes_part_7]\n",
    "real_nodes_8 = [get_key(idx_map,node) for node in nodes_part_8]\n",
    "real_nodes_9 = [get_key(idx_map,node) for node in nodes_part_9]\n",
    "real_nodes_10 = [get_key(idx_map,node) for node in nodes_part_10]\n",
    "real_nodes_11 = [get_key(idx_map,node) for node in nodes_part_11]\n",
    "real_nodes_12 = [get_key(idx_map,node) for node in nodes_part_12]"
   ],
   "metadata": {
    "id": "erWQdKmLKc-4",
    "pycharm": {
     "name": "#%%\n"
    }
   },
   "execution_count": null,
   "outputs": []
  },
  {
   "cell_type": "code",
   "source": [
    "def get_nodes(nodes_part,idx_features_labels):\n",
    "    nodes_sub = []\n",
    "    for x in nodes_part:\n",
    "        x_new = x.astype(np.dtype(str))\n",
    "        for y in idx_features_labels:\n",
    "            if x_new == y[0]:\n",
    "                nodes_sub.append(y)\n",
    "    return nodes_sub"
   ],
   "metadata": {
    "id": "alXuPac8KdBO",
    "pycharm": {
     "name": "#%%\n"
    }
   },
   "execution_count": null,
   "outputs": []
  },
  {
   "cell_type": "code",
   "source": [
    "import pandas as pd\n",
    "nodes_info_0 = pd.DataFrame(get_nodes(real_nodes_0,idx_features_labels))  #分割后的真实点信息\n",
    "nodes_info_1 = pd.DataFrame(get_nodes(real_nodes_1,idx_features_labels))  #分割后的真实点信息\n",
    "nodes_info_2 = pd.DataFrame(get_nodes(real_nodes_2,idx_features_labels))  #分割后的真实点信息\n",
    "nodes_info_3 = pd.DataFrame(get_nodes(real_nodes_3,idx_features_labels))  #分割后的真实点信息\n",
    "nodes_info_4 = pd.DataFrame(get_nodes(real_nodes_4,idx_features_labels))  #分割后的真实点信息\n",
    "nodes_info_5 = pd.DataFrame(get_nodes(real_nodes_5,idx_features_labels))  #分割后的真实点信息\n",
    "nodes_info_6 = pd.DataFrame(get_nodes(real_nodes_6,idx_features_labels))  #分割后的真实点信息\n",
    "nodes_info_7 = pd.DataFrame(get_nodes(real_nodes_7,idx_features_labels))  #分割后的真实点信息\n",
    "nodes_info_8 = pd.DataFrame(get_nodes(real_nodes_8,idx_features_labels))  #分割后的真实点信息\n",
    "nodes_info_9 = pd.DataFrame(get_nodes(real_nodes_9,idx_features_labels))  #分割后的真实点信息\n",
    "nodes_info_10 = pd.DataFrame(get_nodes(real_nodes_10,idx_features_labels))  #分割后的真实点信息\n",
    "nodes_info_11 = pd.DataFrame(get_nodes(real_nodes_11,idx_features_labels))  #分割后的真实点信息\n",
    "nodes_info_12 = pd.DataFrame(get_nodes(real_nodes_12,idx_features_labels))  #分割后的真实点信息"
   ],
   "metadata": {
    "id": "_lRaKLd4Mfw_",
    "pycharm": {
     "name": "#%%\n"
    }
   },
   "execution_count": null,
   "outputs": []
  },
  {
   "cell_type": "code",
   "source": [
    "print(len(nodes_info_0))\n",
    "print(len(nodes_info_1))\n",
    "print(len(nodes_info_2))\n",
    "print(len(nodes_info_3))\n",
    "print(len(nodes_info_4))\n",
    "print(len(nodes_info_5))\n",
    "print(len(nodes_info_6))\n",
    "print(len(nodes_info_7))\n",
    "print(len(nodes_info_8))\n",
    "print(len(nodes_info_9))\n",
    "print(len(nodes_info_10))\n",
    "print(len(nodes_info_11))\n",
    "print(len(nodes_info_12))"
   ],
   "metadata": {
    "colab": {
     "base_uri": "https://localhost:8080/"
    },
    "id": "6djJF-UDNVNk",
    "outputId": "87f3469a-ea38-4d18-a55b-72f28722b929",
    "pycharm": {
     "name": "#%%\n"
    }
   },
   "execution_count": null,
   "outputs": [
    {
     "output_type": "stream",
     "name": "stdout",
     "text": [
      "213\n",
      "207\n",
      "213\n",
      "213\n",
      "201\n",
      "206\n",
      "211\n",
      "208\n",
      "204\n",
      "202\n",
      "213\n",
      "214\n",
      "203\n"
     ]
    }
   ]
  },
  {
   "cell_type": "code",
   "source": [
    "nodes_info_0.to_csv('/content/drive/My Drive/Colab Notebooks/cora0/cora.content',sep='\\t',index=False,header = None)\n",
    "nodes_info_1.to_csv('/content/drive/My Drive/Colab Notebooks/cora1/cora.content',sep='\\t',index=False,header = None)\n",
    "nodes_info_2.to_csv('/content/drive/My Drive/Colab Notebooks/cora2/cora.content',sep='\\t',index=False,header = None)\n",
    "nodes_info_3.to_csv('/content/drive/My Drive/Colab Notebooks/cora3/cora.content',sep='\\t',index=False,header = None)\n",
    "nodes_info_4.to_csv('/content/drive/My Drive/Colab Notebooks/cora4/cora.content',sep='\\t',index=False,header = None)\n",
    "nodes_info_5.to_csv('/content/drive/My Drive/Colab Notebooks/cora5/cora.content',sep='\\t',index=False,header = None)\n",
    "nodes_info_6.to_csv('/content/drive/My Drive/Colab Notebooks/cora6/cora.content',sep='\\t',index=False,header = None)\n",
    "nodes_info_7.to_csv('/content/drive/My Drive/Colab Notebooks/cora7/cora.content',sep='\\t',index=False,header = None)\n",
    "nodes_info_8.to_csv('/content/drive/My Drive/Colab Notebooks/cora8/cora.content',sep='\\t',index=False,header = None)\n",
    "nodes_info_9.to_csv('/content/drive/My Drive/Colab Notebooks/cora9/cora.content',sep='\\t',index=False,header = None)\n",
    "nodes_info_10.to_csv('/content/drive/My Drive/Colab Notebooks/cora10/cora.content',sep='\\t',index=False,header = None)\n",
    "nodes_info_11.to_csv('/content/drive/My Drive/Colab Notebooks/cora11/cora.content',sep='\\t',index=False,header = None)\n",
    "nodes_info_12.to_csv('/content/drive/My Drive/Colab Notebooks/cora12/cora.content',sep='\\t',index=False,header = None)"
   ],
   "metadata": {
    "id": "nYbnur0pN18c",
    "pycharm": {
     "name": "#%%\n"
    }
   },
   "execution_count": null,
   "outputs": []
  },
  {
   "cell_type": "markdown",
   "source": [
    "# 边分割"
   ],
   "metadata": {
    "id": "JY-p59CzNAoK",
    "pycharm": {
     "name": "#%% md\n"
    }
   }
  },
  {
   "cell_type": "code",
   "source": [
    "def get_edges(nodes_part,edges):\n",
    "    edges_sub = []\n",
    "    for x in edges:\n",
    "        for item in tuple(x):\n",
    "            if item in nodes_part:\n",
    "                edges_sub.append(tuple(x))\n",
    "    edges_sub = list(set(edges_sub))\n",
    "    edges_sub = [list(x) for x in edges_sub]\n",
    "    return edges_sub"
   ],
   "metadata": {
    "id": "QA0kb8mVM5n-",
    "pycharm": {
     "name": "#%%\n"
    }
   },
   "execution_count": null,
   "outputs": []
  },
  {
   "cell_type": "code",
   "source": [
    "edges_0 = get_edges(nodes_part_0,edges)  # 按顺序打标签后的边\n",
    "edges_1 = get_edges(nodes_part_1,edges)  # 按顺序打标签后的边\n",
    "edges_2 = get_edges(nodes_part_2,edges)\n",
    "edges_3= get_edges(nodes_part_3,edges)\n",
    "edges_4= get_edges(nodes_part_4,edges)\n",
    "edges_5= get_edges(nodes_part_5,edges)\n",
    "edges_6= get_edges(nodes_part_6,edges)\n",
    "edges_7= get_edges(nodes_part_7,edges)\n",
    "edges_8= get_edges(nodes_part_8,edges)\n",
    "edges_9= get_edges(nodes_part_9,edges)\n",
    "edges_10 = get_edges(nodes_part_10,edges)\n",
    "edges_11 = get_edges(nodes_part_11,edges)\n",
    "edges_12 = get_edges(nodes_part_12,edges)"
   ],
   "metadata": {
    "id": "8Gs84VMCNAEU",
    "pycharm": {
     "name": "#%%\n"
    }
   },
   "execution_count": null,
   "outputs": []
  },
  {
   "cell_type": "code",
   "source": [
    "def get_real_edge(dict,sub_edge):\n",
    "    real_edges = []\n",
    "    for edge in sub_edge:\n",
    "        new_edge = [get_key(dict,x).astype(np.dtype(str)) for x in edge]\n",
    "        real_edges.append(new_edge)\n",
    "    return real_edges"
   ],
   "metadata": {
    "id": "mvG6vBzeNK4X",
    "pycharm": {
     "name": "#%%\n"
    }
   },
   "execution_count": null,
   "outputs": []
  },
  {
   "cell_type": "code",
   "source": [
    "# 获取真实边\n",
    "real_edges_0 = get_real_edge(idx_map,edges_0)  #可以用来输出的真实边\n",
    "real_edges_1 = get_real_edge(idx_map,edges_1)  #可以用来输出的真实边\n",
    "real_edges_2 = get_real_edge(idx_map,edges_2)  #可以用来输出的真实边\n",
    "real_edges_3 = get_real_edge(idx_map,edges_3)  #可以用来输出的真实边\n",
    "real_edges_4 = get_real_edge(idx_map,edges_4)  #可以用来输出的真实边\n",
    "real_edges_5 = get_real_edge(idx_map,edges_5)  #可以用来输出的真实边\n",
    "real_edges_6 = get_real_edge(idx_map,edges_6)  #可以用来输出的真实边\n",
    "real_edges_7 = get_real_edge(idx_map,edges_7)  #可以用来输出的真实边\n",
    "real_edges_8 = get_real_edge(idx_map,edges_8)  #可以用来输出的真实边\n",
    "real_edges_9 = get_real_edge(idx_map,edges_9)  #可以用来输出的真实边\n",
    "real_edges_10 = get_real_edge(idx_map,edges_10)  #可以用来输出的真实边\n",
    "real_edges_11 = get_real_edge(idx_map,edges_11)  #可以用来输出的真实边\n",
    "real_edges_12 = get_real_edge(idx_map,edges_12)  #可以用来输出的真实边"
   ],
   "metadata": {
    "id": "x3tziRneNNF8",
    "pycharm": {
     "name": "#%%\n"
    }
   },
   "execution_count": null,
   "outputs": []
  },
  {
   "cell_type": "code",
   "source": [
    "real_edges_0 = pd.DataFrame(real_edges_0)\n",
    "real_edges_1 = pd.DataFrame(real_edges_1)\n",
    "real_edges_2 = pd.DataFrame(real_edges_2)\n",
    "real_edges_3 = pd.DataFrame(real_edges_3)\n",
    "real_edges_4 = pd.DataFrame(real_edges_4)\n",
    "real_edges_5 = pd.DataFrame(real_edges_5)\n",
    "real_edges_6 = pd.DataFrame(real_edges_6)\n",
    "real_edges_7 = pd.DataFrame(real_edges_7)\n",
    "real_edges_8 = pd.DataFrame(real_edges_8)\n",
    "real_edges_9 = pd.DataFrame(real_edges_9)\n",
    "real_edges_10 = pd.DataFrame(real_edges_10)\n",
    "real_edges_11 = pd.DataFrame(real_edges_11)\n",
    "real_edges_12 = pd.DataFrame(real_edges_12)"
   ],
   "metadata": {
    "id": "aY-GDkx2NgYm",
    "pycharm": {
     "name": "#%%\n"
    }
   },
   "execution_count": null,
   "outputs": []
  },
  {
   "cell_type": "code",
   "source": [
    "real_edges_0.to_csv('/content/drive/My Drive/Colab Notebooks/cora0/cora.cites',sep='\\t',index=False,header = None)\n",
    "real_edges_1.to_csv('/content/drive/My Drive/Colab Notebooks/cora1/cora.cites',sep='\\t',index=False,header = None)\n",
    "real_edges_2.to_csv('/content/drive/My Drive/Colab Notebooks/cora2/cora.cites',sep='\\t',index=False,header = None)\n",
    "real_edges_3.to_csv('/content/drive/My Drive/Colab Notebooks/cora3/cora.cites',sep='\\t',index=False,header = None)\n",
    "real_edges_4.to_csv('/content/drive/My Drive/Colab Notebooks/cora4/cora.cites',sep='\\t',index=False,header = None)\n",
    "real_edges_5.to_csv('/content/drive/My Drive/Colab Notebooks/cora5/cora.cites',sep='\\t',index=False,header = None)\n",
    "real_edges_6.to_csv('/content/drive/My Drive/Colab Notebooks/cora6/cora.cites',sep='\\t',index=False,header = None)\n",
    "real_edges_7.to_csv('/content/drive/My Drive/Colab Notebooks/cora7/cora.cites',sep='\\t',index=False,header = None)\n",
    "real_edges_8.to_csv('/content/drive/My Drive/Colab Notebooks/cora8/cora.cites',sep='\\t',index=False,header = None)\n",
    "real_edges_9.to_csv('/content/drive/My Drive/Colab Notebooks/cora9/cora.cites',sep='\\t',index=False,header = None)\n",
    "real_edges_10.to_csv('/content/drive/My Drive/Colab Notebooks/cora10/cora.cites',sep='\\t',index=False,header = None)\n",
    "real_edges_11.to_csv('/content/drive/My Drive/Colab Notebooks/cora11/cora.cites',sep='\\t',index=False,header = None)\n",
    "real_edges_12.to_csv('/content/drive/My Drive/Colab Notebooks/cora12/cora.cites',sep='\\t',index=False,header = None)"
   ],
   "metadata": {
    "id": "-BJuUaaGN0OU",
    "pycharm": {
     "name": "#%%\n"
    }
   },
   "execution_count": null,
   "outputs": []
  },
  {
   "cell_type": "code",
   "source": [],
   "metadata": {
    "id": "A5xGWo2MO2IG",
    "pycharm": {
     "name": "#%%\n"
    }
   },
   "execution_count": null,
   "outputs": []
  }
 ]
}